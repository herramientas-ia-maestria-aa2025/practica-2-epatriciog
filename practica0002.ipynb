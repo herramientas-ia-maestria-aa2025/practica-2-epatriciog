{
 "cells": [
  {
   "cell_type": "code",
   "execution_count": 49,
   "id": "28845814",
   "metadata": {},
   "outputs": [],
   "source": [
    "# Cargar librerías\n",
    "import pandas as pd\n",
    "import numpy as np\n",
    "from sklearn.linear_model import LogisticRegression\n",
    "from sklearn.preprocessing import StandardScaler\n",
    "from sklearn.pipeline import Pipeline\n",
    "from sklearn.model_selection import train_test_split\n",
    "from sklearn.metrics import accuracy_score, precision_score\n",
    "import mlflow\n",
    "import mlflow.sklearn\n",
    "from flask import Flask, request, jsonify\n"
   ]
  },
  {
   "cell_type": "code",
   "execution_count": 50,
   "id": "da619e05",
   "metadata": {},
   "outputs": [],
   "source": [
    "# Leer datos\n",
    "df = pd.read_csv(\"data/diabetes.csv\")"
   ]
  },
  {
   "cell_type": "code",
   "execution_count": 51,
   "id": "f287d4ff-786f-400c-acbd-06af393ea280",
   "metadata": {},
   "outputs": [
    {
     "data": {
      "text/plain": [
       "Pregnancies                 111\n",
       "Glucose                       5\n",
       "BloodPressure                35\n",
       "SkinThickness               227\n",
       "Insulin                     374\n",
       "BMI                          11\n",
       "DiabetesPedigreeFunction      0\n",
       "Age                           0\n",
       "Outcome                     500\n",
       "dtype: int64"
      ]
     },
     "execution_count": 51,
     "metadata": {},
     "output_type": "execute_result"
    }
   ],
   "source": [
    "# identifica las columnas que tiene valores 0\n",
    "(df==0).sum()"
   ]
  },
  {
   "cell_type": "code",
   "execution_count": 52,
   "id": "9d063202-3384-456c-8bbf-924911f25144",
   "metadata": {},
   "outputs": [],
   "source": [
    "# Reemplazar ceros en columnas específicas por NaN\n",
    "cols_to_clean = ['Glucose', 'BloodPressure', 'SkinThickness', 'Insulin']\n",
    "# No se consideran algunas, por ejemplo Pregnancies (por qué si es posible que se tengan cero embarazos)\n",
    "\n",
    "# Reemplazar ceros por NaN para poder tratarlos como datos faltantes\n",
    "for col in cols_to_clean:\n",
    "    df[col] = df[col].replace(0, np.nan)\n",
    "\n",
    "# Reemplazar NaN con la moda (valor más frecuente) de cada columna\n",
    "for col in cols_to_clean:\n",
    "    # buscar el método más común para determinar la moda de una columna \n",
    "    moda = df[col].mode()\n",
    "    df[col] = df[col].fillna(moda)\n"
   ]
  },
  {
   "cell_type": "code",
   "execution_count": 75,
   "id": "4be9af71",
   "metadata": {},
   "outputs": [
    {
     "data": {
      "text/plain": [
       "Pregnancies                 111\n",
       "Glucose                       0\n",
       "BloodPressure                 0\n",
       "SkinThickness                 0\n",
       "Insulin                       0\n",
       "BMI                          11\n",
       "DiabetesPedigreeFunction      0\n",
       "Age                           0\n",
       "Outcome                     500\n",
       "dtype: int64"
      ]
     },
     "execution_count": 75,
     "metadata": {},
     "output_type": "execute_result"
    }
   ],
   "source": [
    "# identifica las columnas que tiene valores 0\n",
    "(df==0).sum()"
   ]
  },
  {
   "cell_type": "code",
   "execution_count": 76,
   "id": "ec6096ad-0b5c-4d86-a41f-8c16304f0a62",
   "metadata": {},
   "outputs": [
    {
     "data": {
      "text/plain": [
       "Pregnancies                 0\n",
       "Glucose                     0\n",
       "BloodPressure               0\n",
       "SkinThickness               0\n",
       "Insulin                     0\n",
       "BMI                         0\n",
       "DiabetesPedigreeFunction    0\n",
       "Age                         0\n",
       "Outcome                     0\n",
       "dtype: int64"
      ]
     },
     "execution_count": 76,
     "metadata": {},
     "output_type": "execute_result"
    }
   ],
   "source": [
    "# reemplazar los NaN en el dataset\n",
    "df = df.interpolate(method='linear')\n",
    "# confirmar que no existen NaN\n",
    "df.isna().sum()"
   ]
  },
  {
   "cell_type": "code",
   "execution_count": 77,
   "id": "0c993a27-46d8-4e01-b5e8-a96ce5ea18ce",
   "metadata": {},
   "outputs": [
    {
     "name": "stdout",
     "output_type": "stream",
     "text": [
      "Data Split done.\n"
     ]
    }
   ],
   "source": [
    "# Separar datos\n",
    "X = df.drop(\"Outcome\", axis=1)\n",
    "y = df[\"Outcome\"]\n",
    "\n",
    "X_train, X_test, y_train, y_test = train_test_split(X, y, test_size=0.2, random_state=42)\n",
    "print(f'Data Split done.')"
   ]
  },
  {
   "cell_type": "code",
   "execution_count": 78,
   "id": "dc0d4d27-c2a0-463d-bae6-22fe69dd45e9",
   "metadata": {},
   "outputs": [
    {
     "data": {
      "text/plain": [
       "<Experiment: artifact_location='mlflow-artifacts:/1', creation_time=1747661783027, experiment_id='1', last_update_time=1747661783027, lifecycle_stage='active', name='ClasificadorDemoDiabetes', tags={}>"
      ]
     },
     "execution_count": 78,
     "metadata": {},
     "output_type": "execute_result"
    }
   ],
   "source": [
    "# agregar el traking uri de mlflow\n",
    "mlflow.set_tracking_uri(\"http://localhost:9090\") # cambiar en función de su servidor\n",
    "\n",
    "# agregar set_experiment con nombre: ClasificadorDemoDiabetes\n",
    "# Create a new MLflow Experiment\n",
    "mlflow.set_experiment(\"ClasificadorDemoDiabetes\")"
   ]
  },
  {
   "cell_type": "code",
   "execution_count": 104,
   "id": "5a9be0f7-acb1-4800-8030-fd2786cef62b",
   "metadata": {},
   "outputs": [
    {
     "name": "stdout",
     "output_type": "stream",
     "text": [
      "['run_id', 'logreg_C', 'logreg_max_iter', 'solver', 'penalty']\n",
      "400\n",
      "300\n",
      "500\n",
      "200\n",
      "300\n",
      "500\n",
      "300\n",
      "500\n",
      "400\n",
      "200\n"
     ]
    }
   ],
   "source": [
    "# tomar datos de logreg para las iteraciones de mlflow\n",
    "# log = pd.read_csv(\"data/logreg_variaciones_educativas.csv\")\n",
    "import csv\n",
    "with open('data/logreg_variaciones_educativas.csv', newline='') as csvfile:\n",
    "    log = csv.reader(csvfile, delimiter=',')\n",
    "    header = next(log) # Skips the header if it exists\n",
    "    print(header)\n",
    "    for row in log:\n",
    "        print(row[2])"
   ]
  },
  {
   "cell_type": "code",
   "execution_count": 113,
   "id": "c5784cd6",
   "metadata": {},
   "outputs": [
    {
     "name": "stderr",
     "output_type": "stream",
     "text": [
      "2025/05/19 12:28:06 WARNING mlflow.utils.autologging_utils: MLflow autologging encountered a warning: \"C:\\Users\\WNMH84\\HerramientasIA\\clase6\\env\\Lib\\site-packages\\mlflow\\data\\digest_utils.py:26: FutureWarning: DataFrame.applymap has been deprecated. Use DataFrame.map instead.\"\n",
      "2025/05/19 12:28:06 WARNING mlflow.utils.autologging_utils: MLflow autologging encountered a warning: \"C:\\Users\\WNMH84\\HerramientasIA\\clase6\\env\\Lib\\site-packages\\mlflow\\types\\utils.py:394: UserWarning: Hint: Inferred schema contains integer column(s). Integer columns in Python cannot represent missing values. If your input data contains missing values at inference time, it will be encoded as floats and will cause a schema enforcement error. The best way to avoid this problem is to infer the model schema based on a realistic data sample (training dataset) that includes missing values. Alternatively, you can declare integer columns as doubles (float64) whenever these columns may have missing values. See `Handling Integers With Missing Values <https://www.mlflow.org/docs/latest/models.html#handling-integers-with-missing-values>`_ for more details.\"\n",
      "2025/05/19 12:28:07 WARNING mlflow.utils.autologging_utils: MLflow autologging encountered a warning: \"C:\\Users\\WNMH84\\HerramientasIA\\clase6\\env\\Lib\\site-packages\\mlflow\\types\\utils.py:394: UserWarning: Hint: Inferred schema contains integer column(s). Integer columns in Python cannot represent missing values. If your input data contains missing values at inference time, it will be encoded as floats and will cause a schema enforcement error. The best way to avoid this problem is to infer the model schema based on a realistic data sample (training dataset) that includes missing values. Alternatively, you can declare integer columns as doubles (float64) whenever these columns may have missing values. See `Handling Integers With Missing Values <https://www.mlflow.org/docs/latest/models.html#handling-integers-with-missing-values>`_ for more details.\"\n",
      "2025/05/19 12:28:14 WARNING mlflow.utils.autologging_utils: MLflow autologging encountered a warning: \"C:\\Users\\WNMH84\\HerramientasIA\\clase6\\env\\Lib\\site-packages\\mlflow\\data\\digest_utils.py:26: FutureWarning: DataFrame.applymap has been deprecated. Use DataFrame.map instead.\"\n",
      "2025/05/19 12:28:14 WARNING mlflow.utils.autologging_utils: MLflow autologging encountered a warning: \"C:\\Users\\WNMH84\\HerramientasIA\\clase6\\env\\Lib\\site-packages\\mlflow\\types\\utils.py:394: UserWarning: Hint: Inferred schema contains integer column(s). Integer columns in Python cannot represent missing values. If your input data contains missing values at inference time, it will be encoded as floats and will cause a schema enforcement error. The best way to avoid this problem is to infer the model schema based on a realistic data sample (training dataset) that includes missing values. Alternatively, you can declare integer columns as doubles (float64) whenever these columns may have missing values. See `Handling Integers With Missing Values <https://www.mlflow.org/docs/latest/models.html#handling-integers-with-missing-values>`_ for more details.\"\n",
      "2025/05/19 12:28:22 WARNING mlflow.utils.autologging_utils: MLflow autologging encountered a warning: \"C:\\Users\\WNMH84\\HerramientasIA\\clase6\\env\\Lib\\site-packages\\mlflow\\data\\digest_utils.py:26: FutureWarning: DataFrame.applymap has been deprecated. Use DataFrame.map instead.\"\n",
      "2025/05/19 12:28:22 WARNING mlflow.utils.autologging_utils: MLflow autologging encountered a warning: \"C:\\Users\\WNMH84\\HerramientasIA\\clase6\\env\\Lib\\site-packages\\mlflow\\types\\utils.py:394: UserWarning: Hint: Inferred schema contains integer column(s). Integer columns in Python cannot represent missing values. If your input data contains missing values at inference time, it will be encoded as floats and will cause a schema enforcement error. The best way to avoid this problem is to infer the model schema based on a realistic data sample (training dataset) that includes missing values. Alternatively, you can declare integer columns as doubles (float64) whenever these columns may have missing values. See `Handling Integers With Missing Values <https://www.mlflow.org/docs/latest/models.html#handling-integers-with-missing-values>`_ for more details.\"\n"
     ]
    },
    {
     "name": "stdout",
     "output_type": "stream",
     "text": [
      " Modelo registrado en MLflow\n",
      "Accuracy: 0.7273 | Precision: 0.6140\n"
     ]
    },
    {
     "name": "stderr",
     "output_type": "stream",
     "text": [
      "2025/05/19 12:28:23 WARNING mlflow.utils.autologging_utils: MLflow autologging encountered a warning: \"C:\\Users\\WNMH84\\HerramientasIA\\clase6\\env\\Lib\\site-packages\\mlflow\\types\\utils.py:394: UserWarning: Hint: Inferred schema contains integer column(s). Integer columns in Python cannot represent missing values. If your input data contains missing values at inference time, it will be encoded as floats and will cause a schema enforcement error. The best way to avoid this problem is to infer the model schema based on a realistic data sample (training dataset) that includes missing values. Alternatively, you can declare integer columns as doubles (float64) whenever these columns may have missing values. See `Handling Integers With Missing Values <https://www.mlflow.org/docs/latest/models.html#handling-integers-with-missing-values>`_ for more details.\"\n",
      "2025/05/19 12:28:29 WARNING mlflow.utils.autologging_utils: MLflow autologging encountered a warning: \"C:\\Users\\WNMH84\\HerramientasIA\\clase6\\env\\Lib\\site-packages\\mlflow\\data\\digest_utils.py:26: FutureWarning: DataFrame.applymap has been deprecated. Use DataFrame.map instead.\"\n",
      "2025/05/19 12:28:29 WARNING mlflow.utils.autologging_utils: MLflow autologging encountered a warning: \"C:\\Users\\WNMH84\\HerramientasIA\\clase6\\env\\Lib\\site-packages\\mlflow\\types\\utils.py:394: UserWarning: Hint: Inferred schema contains integer column(s). Integer columns in Python cannot represent missing values. If your input data contains missing values at inference time, it will be encoded as floats and will cause a schema enforcement error. The best way to avoid this problem is to infer the model schema based on a realistic data sample (training dataset) that includes missing values. Alternatively, you can declare integer columns as doubles (float64) whenever these columns may have missing values. See `Handling Integers With Missing Values <https://www.mlflow.org/docs/latest/models.html#handling-integers-with-missing-values>`_ for more details.\"\n",
      "2025/05/19 12:28:36 WARNING mlflow.utils.autologging_utils: MLflow autologging encountered a warning: \"C:\\Users\\WNMH84\\HerramientasIA\\clase6\\env\\Lib\\site-packages\\mlflow\\data\\digest_utils.py:26: FutureWarning: DataFrame.applymap has been deprecated. Use DataFrame.map instead.\"\n",
      "2025/05/19 12:28:36 WARNING mlflow.utils.autologging_utils: MLflow autologging encountered a warning: \"C:\\Users\\WNMH84\\HerramientasIA\\clase6\\env\\Lib\\site-packages\\mlflow\\types\\utils.py:394: UserWarning: Hint: Inferred schema contains integer column(s). Integer columns in Python cannot represent missing values. If your input data contains missing values at inference time, it will be encoded as floats and will cause a schema enforcement error. The best way to avoid this problem is to infer the model schema based on a realistic data sample (training dataset) that includes missing values. Alternatively, you can declare integer columns as doubles (float64) whenever these columns may have missing values. See `Handling Integers With Missing Values <https://www.mlflow.org/docs/latest/models.html#handling-integers-with-missing-values>`_ for more details.\"\n"
     ]
    },
    {
     "name": "stdout",
     "output_type": "stream",
     "text": [
      " Modelo registrado en MLflow\n",
      "Accuracy: 0.7597 | Precision: 0.6731\n"
     ]
    },
    {
     "name": "stderr",
     "output_type": "stream",
     "text": [
      "2025/05/19 12:28:37 WARNING mlflow.utils.autologging_utils: MLflow autologging encountered a warning: \"C:\\Users\\WNMH84\\HerramientasIA\\clase6\\env\\Lib\\site-packages\\mlflow\\types\\utils.py:394: UserWarning: Hint: Inferred schema contains integer column(s). Integer columns in Python cannot represent missing values. If your input data contains missing values at inference time, it will be encoded as floats and will cause a schema enforcement error. The best way to avoid this problem is to infer the model schema based on a realistic data sample (training dataset) that includes missing values. Alternatively, you can declare integer columns as doubles (float64) whenever these columns may have missing values. See `Handling Integers With Missing Values <https://www.mlflow.org/docs/latest/models.html#handling-integers-with-missing-values>`_ for more details.\"\n",
      "2025/05/19 12:28:44 WARNING mlflow.utils.autologging_utils: MLflow autologging encountered a warning: \"C:\\Users\\WNMH84\\HerramientasIA\\clase6\\env\\Lib\\site-packages\\mlflow\\data\\digest_utils.py:26: FutureWarning: DataFrame.applymap has been deprecated. Use DataFrame.map instead.\"\n",
      "2025/05/19 12:28:44 WARNING mlflow.utils.autologging_utils: MLflow autologging encountered a warning: \"C:\\Users\\WNMH84\\HerramientasIA\\clase6\\env\\Lib\\site-packages\\mlflow\\types\\utils.py:394: UserWarning: Hint: Inferred schema contains integer column(s). Integer columns in Python cannot represent missing values. If your input data contains missing values at inference time, it will be encoded as floats and will cause a schema enforcement error. The best way to avoid this problem is to infer the model schema based on a realistic data sample (training dataset) that includes missing values. Alternatively, you can declare integer columns as doubles (float64) whenever these columns may have missing values. See `Handling Integers With Missing Values <https://www.mlflow.org/docs/latest/models.html#handling-integers-with-missing-values>`_ for more details.\"\n",
      "2025/05/19 12:28:51 WARNING mlflow.utils.autologging_utils: MLflow autologging encountered a warning: \"C:\\Users\\WNMH84\\HerramientasIA\\clase6\\env\\Lib\\site-packages\\mlflow\\data\\digest_utils.py:26: FutureWarning: DataFrame.applymap has been deprecated. Use DataFrame.map instead.\"\n",
      "2025/05/19 12:28:51 WARNING mlflow.utils.autologging_utils: MLflow autologging encountered a warning: \"C:\\Users\\WNMH84\\HerramientasIA\\clase6\\env\\Lib\\site-packages\\mlflow\\types\\utils.py:394: UserWarning: Hint: Inferred schema contains integer column(s). Integer columns in Python cannot represent missing values. If your input data contains missing values at inference time, it will be encoded as floats and will cause a schema enforcement error. The best way to avoid this problem is to infer the model schema based on a realistic data sample (training dataset) that includes missing values. Alternatively, you can declare integer columns as doubles (float64) whenever these columns may have missing values. See `Handling Integers With Missing Values <https://www.mlflow.org/docs/latest/models.html#handling-integers-with-missing-values>`_ for more details.\"\n"
     ]
    },
    {
     "name": "stdout",
     "output_type": "stream",
     "text": [
      " Modelo registrado en MLflow\n",
      "Accuracy: 0.7597 | Precision: 0.6731\n"
     ]
    },
    {
     "name": "stderr",
     "output_type": "stream",
     "text": [
      "2025/05/19 12:28:52 WARNING mlflow.utils.autologging_utils: MLflow autologging encountered a warning: \"C:\\Users\\WNMH84\\HerramientasIA\\clase6\\env\\Lib\\site-packages\\mlflow\\types\\utils.py:394: UserWarning: Hint: Inferred schema contains integer column(s). Integer columns in Python cannot represent missing values. If your input data contains missing values at inference time, it will be encoded as floats and will cause a schema enforcement error. The best way to avoid this problem is to infer the model schema based on a realistic data sample (training dataset) that includes missing values. Alternatively, you can declare integer columns as doubles (float64) whenever these columns may have missing values. See `Handling Integers With Missing Values <https://www.mlflow.org/docs/latest/models.html#handling-integers-with-missing-values>`_ for more details.\"\n",
      "2025/05/19 12:28:59 WARNING mlflow.utils.autologging_utils: MLflow autologging encountered a warning: \"C:\\Users\\WNMH84\\HerramientasIA\\clase6\\env\\Lib\\site-packages\\mlflow\\data\\digest_utils.py:26: FutureWarning: DataFrame.applymap has been deprecated. Use DataFrame.map instead.\"\n",
      "2025/05/19 12:28:59 WARNING mlflow.utils.autologging_utils: MLflow autologging encountered a warning: \"C:\\Users\\WNMH84\\HerramientasIA\\clase6\\env\\Lib\\site-packages\\mlflow\\types\\utils.py:394: UserWarning: Hint: Inferred schema contains integer column(s). Integer columns in Python cannot represent missing values. If your input data contains missing values at inference time, it will be encoded as floats and will cause a schema enforcement error. The best way to avoid this problem is to infer the model schema based on a realistic data sample (training dataset) that includes missing values. Alternatively, you can declare integer columns as doubles (float64) whenever these columns may have missing values. See `Handling Integers With Missing Values <https://www.mlflow.org/docs/latest/models.html#handling-integers-with-missing-values>`_ for more details.\"\n",
      "2025/05/19 12:29:06 WARNING mlflow.utils.autologging_utils: MLflow autologging encountered a warning: \"C:\\Users\\WNMH84\\HerramientasIA\\clase6\\env\\Lib\\site-packages\\mlflow\\data\\digest_utils.py:26: FutureWarning: DataFrame.applymap has been deprecated. Use DataFrame.map instead.\"\n",
      "2025/05/19 12:29:06 WARNING mlflow.utils.autologging_utils: MLflow autologging encountered a warning: \"C:\\Users\\WNMH84\\HerramientasIA\\clase6\\env\\Lib\\site-packages\\mlflow\\types\\utils.py:394: UserWarning: Hint: Inferred schema contains integer column(s). Integer columns in Python cannot represent missing values. If your input data contains missing values at inference time, it will be encoded as floats and will cause a schema enforcement error. The best way to avoid this problem is to infer the model schema based on a realistic data sample (training dataset) that includes missing values. Alternatively, you can declare integer columns as doubles (float64) whenever these columns may have missing values. See `Handling Integers With Missing Values <https://www.mlflow.org/docs/latest/models.html#handling-integers-with-missing-values>`_ for more details.\"\n"
     ]
    },
    {
     "name": "stdout",
     "output_type": "stream",
     "text": [
      " Modelo registrado en MLflow\n",
      "Accuracy: 0.7597 | Precision: 0.6731\n"
     ]
    },
    {
     "name": "stderr",
     "output_type": "stream",
     "text": [
      "2025/05/19 12:29:08 WARNING mlflow.utils.autologging_utils: MLflow autologging encountered a warning: \"C:\\Users\\WNMH84\\HerramientasIA\\clase6\\env\\Lib\\site-packages\\mlflow\\types\\utils.py:394: UserWarning: Hint: Inferred schema contains integer column(s). Integer columns in Python cannot represent missing values. If your input data contains missing values at inference time, it will be encoded as floats and will cause a schema enforcement error. The best way to avoid this problem is to infer the model schema based on a realistic data sample (training dataset) that includes missing values. Alternatively, you can declare integer columns as doubles (float64) whenever these columns may have missing values. See `Handling Integers With Missing Values <https://www.mlflow.org/docs/latest/models.html#handling-integers-with-missing-values>`_ for more details.\"\n",
      "2025/05/19 12:29:14 WARNING mlflow.utils.autologging_utils: MLflow autologging encountered a warning: \"C:\\Users\\WNMH84\\HerramientasIA\\clase6\\env\\Lib\\site-packages\\mlflow\\data\\digest_utils.py:26: FutureWarning: DataFrame.applymap has been deprecated. Use DataFrame.map instead.\"\n",
      "2025/05/19 12:29:14 WARNING mlflow.utils.autologging_utils: MLflow autologging encountered a warning: \"C:\\Users\\WNMH84\\HerramientasIA\\clase6\\env\\Lib\\site-packages\\mlflow\\types\\utils.py:394: UserWarning: Hint: Inferred schema contains integer column(s). Integer columns in Python cannot represent missing values. If your input data contains missing values at inference time, it will be encoded as floats and will cause a schema enforcement error. The best way to avoid this problem is to infer the model schema based on a realistic data sample (training dataset) that includes missing values. Alternatively, you can declare integer columns as doubles (float64) whenever these columns may have missing values. See `Handling Integers With Missing Values <https://www.mlflow.org/docs/latest/models.html#handling-integers-with-missing-values>`_ for more details.\"\n",
      "2025/05/19 12:29:21 WARNING mlflow.utils.autologging_utils: MLflow autologging encountered a warning: \"C:\\Users\\WNMH84\\HerramientasIA\\clase6\\env\\Lib\\site-packages\\mlflow\\data\\digest_utils.py:26: FutureWarning: DataFrame.applymap has been deprecated. Use DataFrame.map instead.\"\n",
      "2025/05/19 12:29:21 WARNING mlflow.utils.autologging_utils: MLflow autologging encountered a warning: \"C:\\Users\\WNMH84\\HerramientasIA\\clase6\\env\\Lib\\site-packages\\mlflow\\types\\utils.py:394: UserWarning: Hint: Inferred schema contains integer column(s). Integer columns in Python cannot represent missing values. If your input data contains missing values at inference time, it will be encoded as floats and will cause a schema enforcement error. The best way to avoid this problem is to infer the model schema based on a realistic data sample (training dataset) that includes missing values. Alternatively, you can declare integer columns as doubles (float64) whenever these columns may have missing values. See `Handling Integers With Missing Values <https://www.mlflow.org/docs/latest/models.html#handling-integers-with-missing-values>`_ for more details.\"\n"
     ]
    },
    {
     "name": "stdout",
     "output_type": "stream",
     "text": [
      " Modelo registrado en MLflow\n",
      "Accuracy: 0.7597 | Precision: 0.6731\n"
     ]
    },
    {
     "name": "stderr",
     "output_type": "stream",
     "text": [
      "2025/05/19 12:29:22 WARNING mlflow.utils.autologging_utils: MLflow autologging encountered a warning: \"C:\\Users\\WNMH84\\HerramientasIA\\clase6\\env\\Lib\\site-packages\\mlflow\\types\\utils.py:394: UserWarning: Hint: Inferred schema contains integer column(s). Integer columns in Python cannot represent missing values. If your input data contains missing values at inference time, it will be encoded as floats and will cause a schema enforcement error. The best way to avoid this problem is to infer the model schema based on a realistic data sample (training dataset) that includes missing values. Alternatively, you can declare integer columns as doubles (float64) whenever these columns may have missing values. See `Handling Integers With Missing Values <https://www.mlflow.org/docs/latest/models.html#handling-integers-with-missing-values>`_ for more details.\"\n",
      "2025/05/19 12:29:29 WARNING mlflow.utils.autologging_utils: MLflow autologging encountered a warning: \"C:\\Users\\WNMH84\\HerramientasIA\\clase6\\env\\Lib\\site-packages\\mlflow\\data\\digest_utils.py:26: FutureWarning: DataFrame.applymap has been deprecated. Use DataFrame.map instead.\"\n",
      "2025/05/19 12:29:29 WARNING mlflow.utils.autologging_utils: MLflow autologging encountered a warning: \"C:\\Users\\WNMH84\\HerramientasIA\\clase6\\env\\Lib\\site-packages\\mlflow\\types\\utils.py:394: UserWarning: Hint: Inferred schema contains integer column(s). Integer columns in Python cannot represent missing values. If your input data contains missing values at inference time, it will be encoded as floats and will cause a schema enforcement error. The best way to avoid this problem is to infer the model schema based on a realistic data sample (training dataset) that includes missing values. Alternatively, you can declare integer columns as doubles (float64) whenever these columns may have missing values. See `Handling Integers With Missing Values <https://www.mlflow.org/docs/latest/models.html#handling-integers-with-missing-values>`_ for more details.\"\n",
      "2025/05/19 12:29:36 WARNING mlflow.utils.autologging_utils: MLflow autologging encountered a warning: \"C:\\Users\\WNMH84\\HerramientasIA\\clase6\\env\\Lib\\site-packages\\mlflow\\data\\digest_utils.py:26: FutureWarning: DataFrame.applymap has been deprecated. Use DataFrame.map instead.\"\n",
      "2025/05/19 12:29:36 WARNING mlflow.utils.autologging_utils: MLflow autologging encountered a warning: \"C:\\Users\\WNMH84\\HerramientasIA\\clase6\\env\\Lib\\site-packages\\mlflow\\types\\utils.py:394: UserWarning: Hint: Inferred schema contains integer column(s). Integer columns in Python cannot represent missing values. If your input data contains missing values at inference time, it will be encoded as floats and will cause a schema enforcement error. The best way to avoid this problem is to infer the model schema based on a realistic data sample (training dataset) that includes missing values. Alternatively, you can declare integer columns as doubles (float64) whenever these columns may have missing values. See `Handling Integers With Missing Values <https://www.mlflow.org/docs/latest/models.html#handling-integers-with-missing-values>`_ for more details.\"\n"
     ]
    },
    {
     "name": "stdout",
     "output_type": "stream",
     "text": [
      " Modelo registrado en MLflow\n",
      "Accuracy: 0.7597 | Precision: 0.6731\n"
     ]
    },
    {
     "name": "stderr",
     "output_type": "stream",
     "text": [
      "2025/05/19 12:29:38 WARNING mlflow.utils.autologging_utils: MLflow autologging encountered a warning: \"C:\\Users\\WNMH84\\HerramientasIA\\clase6\\env\\Lib\\site-packages\\mlflow\\types\\utils.py:394: UserWarning: Hint: Inferred schema contains integer column(s). Integer columns in Python cannot represent missing values. If your input data contains missing values at inference time, it will be encoded as floats and will cause a schema enforcement error. The best way to avoid this problem is to infer the model schema based on a realistic data sample (training dataset) that includes missing values. Alternatively, you can declare integer columns as doubles (float64) whenever these columns may have missing values. See `Handling Integers With Missing Values <https://www.mlflow.org/docs/latest/models.html#handling-integers-with-missing-values>`_ for more details.\"\n",
      "2025/05/19 12:29:44 WARNING mlflow.utils.autologging_utils: MLflow autologging encountered a warning: \"C:\\Users\\WNMH84\\HerramientasIA\\clase6\\env\\Lib\\site-packages\\mlflow\\data\\digest_utils.py:26: FutureWarning: DataFrame.applymap has been deprecated. Use DataFrame.map instead.\"\n",
      "2025/05/19 12:29:44 WARNING mlflow.utils.autologging_utils: MLflow autologging encountered a warning: \"C:\\Users\\WNMH84\\HerramientasIA\\clase6\\env\\Lib\\site-packages\\mlflow\\types\\utils.py:394: UserWarning: Hint: Inferred schema contains integer column(s). Integer columns in Python cannot represent missing values. If your input data contains missing values at inference time, it will be encoded as floats and will cause a schema enforcement error. The best way to avoid this problem is to infer the model schema based on a realistic data sample (training dataset) that includes missing values. Alternatively, you can declare integer columns as doubles (float64) whenever these columns may have missing values. See `Handling Integers With Missing Values <https://www.mlflow.org/docs/latest/models.html#handling-integers-with-missing-values>`_ for more details.\"\n",
      "2025/05/19 12:29:51 WARNING mlflow.utils.autologging_utils: MLflow autologging encountered a warning: \"C:\\Users\\WNMH84\\HerramientasIA\\clase6\\env\\Lib\\site-packages\\mlflow\\data\\digest_utils.py:26: FutureWarning: DataFrame.applymap has been deprecated. Use DataFrame.map instead.\"\n",
      "2025/05/19 12:29:51 WARNING mlflow.utils.autologging_utils: MLflow autologging encountered a warning: \"C:\\Users\\WNMH84\\HerramientasIA\\clase6\\env\\Lib\\site-packages\\mlflow\\types\\utils.py:394: UserWarning: Hint: Inferred schema contains integer column(s). Integer columns in Python cannot represent missing values. If your input data contains missing values at inference time, it will be encoded as floats and will cause a schema enforcement error. The best way to avoid this problem is to infer the model schema based on a realistic data sample (training dataset) that includes missing values. Alternatively, you can declare integer columns as doubles (float64) whenever these columns may have missing values. See `Handling Integers With Missing Values <https://www.mlflow.org/docs/latest/models.html#handling-integers-with-missing-values>`_ for more details.\"\n"
     ]
    },
    {
     "name": "stdout",
     "output_type": "stream",
     "text": [
      " Modelo registrado en MLflow\n",
      "Accuracy: 0.7597 | Precision: 0.6731\n"
     ]
    },
    {
     "name": "stderr",
     "output_type": "stream",
     "text": [
      "2025/05/19 12:29:53 WARNING mlflow.utils.autologging_utils: MLflow autologging encountered a warning: \"C:\\Users\\WNMH84\\HerramientasIA\\clase6\\env\\Lib\\site-packages\\mlflow\\types\\utils.py:394: UserWarning: Hint: Inferred schema contains integer column(s). Integer columns in Python cannot represent missing values. If your input data contains missing values at inference time, it will be encoded as floats and will cause a schema enforcement error. The best way to avoid this problem is to infer the model schema based on a realistic data sample (training dataset) that includes missing values. Alternatively, you can declare integer columns as doubles (float64) whenever these columns may have missing values. See `Handling Integers With Missing Values <https://www.mlflow.org/docs/latest/models.html#handling-integers-with-missing-values>`_ for more details.\"\n",
      "2025/05/19 12:29:59 WARNING mlflow.utils.autologging_utils: MLflow autologging encountered a warning: \"C:\\Users\\WNMH84\\HerramientasIA\\clase6\\env\\Lib\\site-packages\\mlflow\\data\\digest_utils.py:26: FutureWarning: DataFrame.applymap has been deprecated. Use DataFrame.map instead.\"\n",
      "2025/05/19 12:29:59 WARNING mlflow.utils.autologging_utils: MLflow autologging encountered a warning: \"C:\\Users\\WNMH84\\HerramientasIA\\clase6\\env\\Lib\\site-packages\\mlflow\\types\\utils.py:394: UserWarning: Hint: Inferred schema contains integer column(s). Integer columns in Python cannot represent missing values. If your input data contains missing values at inference time, it will be encoded as floats and will cause a schema enforcement error. The best way to avoid this problem is to infer the model schema based on a realistic data sample (training dataset) that includes missing values. Alternatively, you can declare integer columns as doubles (float64) whenever these columns may have missing values. See `Handling Integers With Missing Values <https://www.mlflow.org/docs/latest/models.html#handling-integers-with-missing-values>`_ for more details.\"\n",
      "2025/05/19 12:30:06 WARNING mlflow.utils.autologging_utils: MLflow autologging encountered a warning: \"C:\\Users\\WNMH84\\HerramientasIA\\clase6\\env\\Lib\\site-packages\\mlflow\\data\\digest_utils.py:26: FutureWarning: DataFrame.applymap has been deprecated. Use DataFrame.map instead.\"\n",
      "2025/05/19 12:30:06 WARNING mlflow.utils.autologging_utils: MLflow autologging encountered a warning: \"C:\\Users\\WNMH84\\HerramientasIA\\clase6\\env\\Lib\\site-packages\\mlflow\\types\\utils.py:394: UserWarning: Hint: Inferred schema contains integer column(s). Integer columns in Python cannot represent missing values. If your input data contains missing values at inference time, it will be encoded as floats and will cause a schema enforcement error. The best way to avoid this problem is to infer the model schema based on a realistic data sample (training dataset) that includes missing values. Alternatively, you can declare integer columns as doubles (float64) whenever these columns may have missing values. See `Handling Integers With Missing Values <https://www.mlflow.org/docs/latest/models.html#handling-integers-with-missing-values>`_ for more details.\"\n"
     ]
    },
    {
     "name": "stdout",
     "output_type": "stream",
     "text": [
      " Modelo registrado en MLflow\n",
      "Accuracy: 0.7597 | Precision: 0.6731\n"
     ]
    },
    {
     "name": "stderr",
     "output_type": "stream",
     "text": [
      "2025/05/19 12:30:07 WARNING mlflow.utils.autologging_utils: MLflow autologging encountered a warning: \"C:\\Users\\WNMH84\\HerramientasIA\\clase6\\env\\Lib\\site-packages\\mlflow\\types\\utils.py:394: UserWarning: Hint: Inferred schema contains integer column(s). Integer columns in Python cannot represent missing values. If your input data contains missing values at inference time, it will be encoded as floats and will cause a schema enforcement error. The best way to avoid this problem is to infer the model schema based on a realistic data sample (training dataset) that includes missing values. Alternatively, you can declare integer columns as doubles (float64) whenever these columns may have missing values. See `Handling Integers With Missing Values <https://www.mlflow.org/docs/latest/models.html#handling-integers-with-missing-values>`_ for more details.\"\n",
      "2025/05/19 12:30:14 WARNING mlflow.utils.autologging_utils: MLflow autologging encountered a warning: \"C:\\Users\\WNMH84\\HerramientasIA\\clase6\\env\\Lib\\site-packages\\mlflow\\data\\digest_utils.py:26: FutureWarning: DataFrame.applymap has been deprecated. Use DataFrame.map instead.\"\n",
      "2025/05/19 12:30:14 WARNING mlflow.utils.autologging_utils: MLflow autologging encountered a warning: \"C:\\Users\\WNMH84\\HerramientasIA\\clase6\\env\\Lib\\site-packages\\mlflow\\types\\utils.py:394: UserWarning: Hint: Inferred schema contains integer column(s). Integer columns in Python cannot represent missing values. If your input data contains missing values at inference time, it will be encoded as floats and will cause a schema enforcement error. The best way to avoid this problem is to infer the model schema based on a realistic data sample (training dataset) that includes missing values. Alternatively, you can declare integer columns as doubles (float64) whenever these columns may have missing values. See `Handling Integers With Missing Values <https://www.mlflow.org/docs/latest/models.html#handling-integers-with-missing-values>`_ for more details.\"\n",
      "2025/05/19 12:30:21 WARNING mlflow.utils.autologging_utils: MLflow autologging encountered a warning: \"C:\\Users\\WNMH84\\HerramientasIA\\clase6\\env\\Lib\\site-packages\\mlflow\\data\\digest_utils.py:26: FutureWarning: DataFrame.applymap has been deprecated. Use DataFrame.map instead.\"\n",
      "2025/05/19 12:30:21 WARNING mlflow.utils.autologging_utils: MLflow autologging encountered a warning: \"C:\\Users\\WNMH84\\HerramientasIA\\clase6\\env\\Lib\\site-packages\\mlflow\\types\\utils.py:394: UserWarning: Hint: Inferred schema contains integer column(s). Integer columns in Python cannot represent missing values. If your input data contains missing values at inference time, it will be encoded as floats and will cause a schema enforcement error. The best way to avoid this problem is to infer the model schema based on a realistic data sample (training dataset) that includes missing values. Alternatively, you can declare integer columns as doubles (float64) whenever these columns may have missing values. See `Handling Integers With Missing Values <https://www.mlflow.org/docs/latest/models.html#handling-integers-with-missing-values>`_ for more details.\"\n"
     ]
    },
    {
     "name": "stdout",
     "output_type": "stream",
     "text": [
      " Modelo registrado en MLflow\n",
      "Accuracy: 0.7597 | Precision: 0.6731\n"
     ]
    },
    {
     "name": "stderr",
     "output_type": "stream",
     "text": [
      "2025/05/19 12:30:22 WARNING mlflow.utils.autologging_utils: MLflow autologging encountered a warning: \"C:\\Users\\WNMH84\\HerramientasIA\\clase6\\env\\Lib\\site-packages\\mlflow\\types\\utils.py:394: UserWarning: Hint: Inferred schema contains integer column(s). Integer columns in Python cannot represent missing values. If your input data contains missing values at inference time, it will be encoded as floats and will cause a schema enforcement error. The best way to avoid this problem is to infer the model schema based on a realistic data sample (training dataset) that includes missing values. Alternatively, you can declare integer columns as doubles (float64) whenever these columns may have missing values. See `Handling Integers With Missing Values <https://www.mlflow.org/docs/latest/models.html#handling-integers-with-missing-values>`_ for more details.\"\n",
      "2025/05/19 12:30:28 WARNING mlflow.utils.autologging_utils: MLflow autologging encountered a warning: \"C:\\Users\\WNMH84\\HerramientasIA\\clase6\\env\\Lib\\site-packages\\mlflow\\data\\digest_utils.py:26: FutureWarning: DataFrame.applymap has been deprecated. Use DataFrame.map instead.\"\n",
      "2025/05/19 12:30:28 WARNING mlflow.utils.autologging_utils: MLflow autologging encountered a warning: \"C:\\Users\\WNMH84\\HerramientasIA\\clase6\\env\\Lib\\site-packages\\mlflow\\types\\utils.py:394: UserWarning: Hint: Inferred schema contains integer column(s). Integer columns in Python cannot represent missing values. If your input data contains missing values at inference time, it will be encoded as floats and will cause a schema enforcement error. The best way to avoid this problem is to infer the model schema based on a realistic data sample (training dataset) that includes missing values. Alternatively, you can declare integer columns as doubles (float64) whenever these columns may have missing values. See `Handling Integers With Missing Values <https://www.mlflow.org/docs/latest/models.html#handling-integers-with-missing-values>`_ for more details.\"\n"
     ]
    },
    {
     "name": "stdout",
     "output_type": "stream",
     "text": [
      " Modelo registrado en MLflow\n",
      "Accuracy: 0.7597 | Precision: 0.6731\n"
     ]
    }
   ],
   "source": [
    "# Entrenamiento y registro con MLflow\n",
    "# tomar datos de logreg para las iteraciones de mlflow\n",
    "# log = pd.read_csv(\"data/logreg_variaciones_educativas.csv\")\n",
    "\n",
    "#C = 1.0\n",
    "# max_iter = 10 #1000\n",
    "# usar los parámetros del archivo logreg_variaciones_educativas.csv\n",
    "# para los parámtros C, max_iter, solver y penalty de LogisticRegresion\n",
    "# se debe genear un run por cada fila del archivo, usando sus parámetros\n",
    "# Analizar que usar\n",
    "\n",
    "# header csv: ['run_id', 'logreg_C', 'logreg_max_iter', 'solver', 'penalty']\n",
    "import csv\n",
    "with open('data/logreg_variaciones_educativas.csv', newline='') as csvfile:\n",
    "    log = csv.reader(csvfile, delimiter=',')\n",
    "    next(log) # Skips the header\n",
    "    for row in log:\n",
    "    # agregar la línea del start_run\n",
    "        with mlflow.start_run(run_name=row[0]):\n",
    "            # El pipeline usar StandarScaler para que todos los valore numéricos estén en la misma escala\n",
    "            # no cambiar dicha línea\n",
    "            # LogisticRegresion deben variar sus parámetros en cada iteración.\n",
    "            pipeline = Pipeline([\n",
    "                    (\"scaler\", StandardScaler()),\n",
    "                    (\"clf\", LogisticRegression(\n",
    "                        C=float(row[1]),\n",
    "                        max_iter=int(row[2]),\n",
    "                        solver=row[3],\n",
    "                        penalty= row[4] #\"l2\"\n",
    "                    ))\n",
    "                ])\n",
    "            \n",
    "            # Entrenar y evaluar\n",
    "            pipeline.fit(X_train, y_train)\n",
    "            y_pred = pipeline.predict(X_test)\n",
    "        \n",
    "            acc = accuracy_score(y_test, y_pred)\n",
    "            prec = precision_score(y_test, y_pred)\n",
    "        \n",
    "            # recuerde que log_param y log_metric debe ir guardando los valores\n",
    "            # dependiendo del run correspondiente de cada fila\n",
    "            mlflow.log_param(\"logreg_C\", C)\n",
    "            mlflow.log_param(\"logreg_max_iter\", max_iter)\n",
    "            mlflow.log_param(\"solver\", \"liblinear\")\n",
    "            mlflow.log_param(\"penalty\", \"l2\")\n",
    "            \n",
    "            mlflow.log_metric(\"accuracy\", acc)\n",
    "            mlflow.log_metric(\"precision\", prec)\n",
    "            \n",
    "            # Guardar el pipeline completo\n",
    "            mlflow.sklearn.log_model(pipeline, \"modelo_pipeline\")\n",
    "            \n",
    "            print(\" Modelo registrado en MLflow\")\n",
    "            print(f\"Accuracy: {acc:.4f} | Precision: {prec:.4f}\")\n"
   ]
  },
  {
   "cell_type": "code",
   "execution_count": null,
   "id": "06c9eb27-a3f2-4e14-b2bc-e308fc71514b",
   "metadata": {},
   "outputs": [],
   "source": []
  }
 ],
 "metadata": {
  "kernelspec": {
   "display_name": "Python 3 (ipykernel)",
   "language": "python",
   "name": "python3"
  },
  "language_info": {
   "codemirror_mode": {
    "name": "ipython",
    "version": 3
   },
   "file_extension": ".py",
   "mimetype": "text/x-python",
   "name": "python",
   "nbconvert_exporter": "python",
   "pygments_lexer": "ipython3",
   "version": "3.12.10"
  }
 },
 "nbformat": 4,
 "nbformat_minor": 5
}
